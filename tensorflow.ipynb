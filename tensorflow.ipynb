{
 "cells": [
  {
   "cell_type": "code",
   "execution_count": 3,
   "metadata": {},
   "outputs": [],
   "source": [
    "import tensorflow as tf\n",
    "\n"
   ]
  },
  {
   "cell_type": "code",
   "execution_count": 4,
   "metadata": {},
   "outputs": [
    {
     "name": "stderr",
     "output_type": "stream",
     "text": [
      "2024-12-26 08:57:03.663477: I metal_plugin/src/device/metal_device.cc:1154] Metal device set to: Apple M2 Pro\n",
      "2024-12-26 08:57:03.663520: I metal_plugin/src/device/metal_device.cc:296] systemMemory: 16.00 GB\n",
      "2024-12-26 08:57:03.663537: I metal_plugin/src/device/metal_device.cc:313] maxCacheSize: 5.33 GB\n",
      "2024-12-26 08:57:03.663781: I tensorflow/core/common_runtime/pluggable_device/pluggable_device_factory.cc:305] Could not identify NUMA node of platform GPU ID 0, defaulting to 0. Your kernel may not have been built with NUMA support.\n",
      "2024-12-26 08:57:03.663799: I tensorflow/core/common_runtime/pluggable_device/pluggable_device_factory.cc:271] Created TensorFlow device (/job:localhost/replica:0/task:0/device:GPU:0 with 0 MB memory) -> physical PluggableDevice (device: 0, name: METAL, pci bus id: <undefined>)\n"
     ]
    }
   ],
   "source": [
    "data = tf.constant([1, 2, 3, 4, 5, 6, 7, 8, 9, 10])"
   ]
  },
  {
   "cell_type": "code",
   "execution_count": 6,
   "metadata": {},
   "outputs": [
    {
     "data": {
      "text/plain": [
       "TensorShape([10])"
      ]
     },
     "execution_count": 6,
     "metadata": {},
     "output_type": "execute_result"
    }
   ],
   "source": [
    "data.shape"
   ]
  },
  {
   "cell_type": "code",
   "execution_count": 9,
   "metadata": {},
   "outputs": [],
   "source": [
    "user_input = tf.constant(1)"
   ]
  },
  {
   "cell_type": "code",
   "execution_count": 10,
   "metadata": {},
   "outputs": [
    {
     "data": {
      "text/plain": [
       "TensorShape([])"
      ]
     },
     "execution_count": 10,
     "metadata": {},
     "output_type": "execute_result"
    }
   ],
   "source": [
    "user_input.shape"
   ]
  },
  {
   "cell_type": "code",
   "execution_count": 11,
   "metadata": {},
   "outputs": [],
   "source": [
    "import numpy as np\n",
    "import tensorflow as tf\n",
    "\n",
    "from keras import Input\n",
    "import keras\n",
    "from keras import regularizers\n",
    "# from evaluate import evaluate_model\n",
    "from evaluate import evaluate_model\n",
    "from Dataset import Dataset\n",
    "from time import time\n",
    "import GMF, MLP\n",
    "import argparse\n",
    "import multiprocessing as mp"
   ]
  },
  {
   "cell_type": "code",
   "execution_count": 12,
   "metadata": {},
   "outputs": [],
   "source": [
    "user_input = Input(shape=(1,), dtype='int32', name='user_input')\n",
    "item_input = Input(shape=(1,), dtype='int32', name='item_input')\n"
   ]
  },
  {
   "cell_type": "code",
   "execution_count": 18,
   "metadata": {},
   "outputs": [],
   "source": [
    " # Embedding layer\n",
    "num_users = 100\n",
    "mf_dim = 8\n",
    "num_items = 100\n",
    "reg_mf = 0\n",
    "layers = [64, 32, 16, 8]\n",
    "reg_layers = [0, 0, 0, 0]\n",
    "reg_mlp = 0\n",
    "\n",
    "MF_Embedding_User = keras.layers.Embedding(input_dim=num_users, output_dim=mf_dim, name='mf_embedding_user',\n",
    "                                            embeddings_initializer=keras.initializers.random_normal(mean=0.0,\n",
    "                                                                                                    stddev=0.01),\n",
    "                                            embeddings_regularizer=regularizers.l2(reg_mf))\n",
    "MF_Embedding_Item = keras.layers.Embedding(input_dim=num_items, output_dim=mf_dim, name='mf_embedding_item',\n",
    "                                            embeddings_initializer=keras.initializers.random_normal(mean=0.0,\n",
    "                                                                                                    stddev=0.01),\n",
    "                                            embeddings_regularizer=regularizers.l2(reg_mf))\n",
    "\n",
    "MLP_Embedding_User = keras.layers.Embedding(input_dim=num_users, output_dim=int(layers[0] / 2),\n",
    "                                            name=\"mlp_embedding_user\",\n",
    "                                            embeddings_initializer=keras.initializers.random_normal(mean=0.0,\n",
    "                                                                                                    stddev=0.01),\n",
    "                                            embeddings_regularizer=regularizers.l2(reg_layers[0]))\n",
    "MLP_Embedding_Item = keras.layers.Embedding(input_dim=num_items, output_dim=int(layers[0] / 2),\n",
    "                                            name='mlp_embedding_item',\n",
    "                                            embeddings_initializer=keras.initializers.random_normal(mean=0.0,\n",
    "                                                                                                    stddev=0.01),\n",
    "                                                embeddings_regularizer=regularizers.l2(reg_layers[0]))\n"
   ]
  },
  {
   "cell_type": "code",
   "execution_count": 21,
   "metadata": {},
   "outputs": [],
   "source": [
    "mf_user_latent =  MF_Embedding_User(user_input)\n",
    "model = keras.Model(inputs=[user_input, item_input], outputs= mf_user_latent)"
   ]
  },
  {
   "cell_type": "code",
   "execution_count": 22,
   "metadata": {},
   "outputs": [
    {
     "name": "stdout",
     "output_type": "stream",
     "text": [
      "\u001b[1m1/1\u001b[0m \u001b[32m━━━━━━━━━━━━━━━━━━━━\u001b[0m\u001b[37m\u001b[0m \u001b[1m0s\u001b[0m 33ms/step\n"
     ]
    },
    {
     "data": {
      "text/plain": [
       "array([[[ 0.0024373 ,  0.00034439, -0.00265584,  0.01091317,\n",
       "          0.01638315, -0.00462466,  0.00963809,  0.0118891 ]]],\n",
       "      dtype=float32)"
      ]
     },
     "execution_count": 22,
     "metadata": {},
     "output_type": "execute_result"
    }
   ],
   "source": [
    "model.predict([np.array([1]), np.array([1])])"
   ]
  },
  {
   "cell_type": "code",
   "execution_count": 24,
   "metadata": {},
   "outputs": [
    {
     "name": "stdout",
     "output_type": "stream",
     "text": [
      "\u001b[1m1/1\u001b[0m \u001b[32m━━━━━━━━━━━━━━━━━━━━\u001b[0m\u001b[37m\u001b[0m \u001b[1m0s\u001b[0m 104ms/step\n"
     ]
    },
    {
     "name": "stderr",
     "output_type": "stream",
     "text": [
      "/opt/homebrew/Caskroom/miniconda/base/lib/python3.10/site-packages/keras/src/models/functional.py:225: UserWarning: The structure of `inputs` doesn't match the expected structure: ['user_input', 'item_input']. Received: the structure of inputs=('*', '*')\n",
      "  warnings.warn(\n"
     ]
    },
    {
     "data": {
      "text/plain": [
       "array([[ 0.0024373 ,  0.00034439, -0.00265584,  0.01091317,  0.01638315,\n",
       "        -0.00462466,  0.00963809,  0.0118891 ]], dtype=float32)"
      ]
     },
     "execution_count": 24,
     "metadata": {},
     "output_type": "execute_result"
    }
   ],
   "source": [
    "mf_user_latent =  keras.layers.Flatten()(MF_Embedding_User(user_input))\n",
    "model = keras.Model(inputs=[user_input, item_input], outputs= mf_user_latent)\n",
    "model.predict([np.array([1]), np.array([1])])"
   ]
  },
  {
   "cell_type": "code",
   "execution_count": 25,
   "metadata": {},
   "outputs": [
    {
     "name": "stdout",
     "output_type": "stream",
     "text": [
      "\u001b[1m1/1\u001b[0m \u001b[32m━━━━━━━━━━━━━━━━━━━━\u001b[0m\u001b[37m\u001b[0m \u001b[1m0s\u001b[0m 85ms/step\n"
     ]
    },
    {
     "name": "stderr",
     "output_type": "stream",
     "text": [
      "/opt/homebrew/Caskroom/miniconda/base/lib/python3.10/site-packages/keras/src/models/functional.py:225: UserWarning: The structure of `inputs` doesn't match the expected structure: ['user_input', 'item_input']. Received: the structure of inputs=('*', '*')\n",
      "  warnings.warn(\n"
     ]
    },
    {
     "data": {
      "text/plain": [
       "array([[ 0.00301147, -0.00437026,  0.02828471,  0.00213809, -0.00478646,\n",
       "        -0.00547167,  0.00693694, -0.00182213]], dtype=float32)"
      ]
     },
     "execution_count": 25,
     "metadata": {},
     "output_type": "execute_result"
    }
   ],
   "source": [
    "mf_item_latent =  keras.layers.Flatten()(MF_Embedding_Item(item_input))\n",
    "model = keras.Model(inputs=[user_input, item_input], outputs= mf_item_latent)\n",
    "model.predict([np.array([1]), np.array([1])])"
   ]
  },
  {
   "cell_type": "code",
   "execution_count": 26,
   "metadata": {},
   "outputs": [
    {
     "name": "stderr",
     "output_type": "stream",
     "text": [
      "/opt/homebrew/Caskroom/miniconda/base/lib/python3.10/site-packages/keras/src/models/functional.py:225: UserWarning: The structure of `inputs` doesn't match the expected structure: ['user_input', 'item_input']. Received: the structure of inputs=('*', '*')\n",
      "  warnings.warn(\n"
     ]
    },
    {
     "name": "stdout",
     "output_type": "stream",
     "text": [
      "WARNING:tensorflow:5 out of the last 5 calls to <function TensorFlowTrainer.make_predict_function.<locals>.one_step_on_data_distributed at 0x370011870> triggered tf.function retracing. Tracing is expensive and the excessive number of tracings could be due to (1) creating @tf.function repeatedly in a loop, (2) passing tensors with different shapes, (3) passing Python objects instead of tensors. For (1), please define your @tf.function outside of the loop. For (2), @tf.function has reduce_retracing=True option that can avoid unnecessary retracing. For (3), please refer to https://www.tensorflow.org/guide/function#controlling_retracing and https://www.tensorflow.org/api_docs/python/tf/function for  more details.\n",
      "\u001b[1m1/1\u001b[0m \u001b[32m━━━━━━━━━━━━━━━━━━━━\u001b[0m\u001b[37m\u001b[0m \u001b[1m0s\u001b[0m 246ms/step\n"
     ]
    },
    {
     "data": {
      "text/plain": [
       "array([[ 7.3398687e-06, -1.5050830e-06, -7.5119679e-05,  2.3333323e-05,\n",
       "        -7.8417266e-05,  2.5304620e-05,  6.6858855e-05, -2.1663524e-05]],\n",
       "      dtype=float32)"
      ]
     },
     "execution_count": 26,
     "metadata": {},
     "output_type": "execute_result"
    }
   ],
   "source": [
    "mf_vector = keras.layers.Multiply()([mf_user_latent, mf_item_latent])  # element-wise multiply\n",
    "model = keras.Model(inputs=[user_input, item_input], outputs= mf_vector)\n",
    "model.predict([np.array([1]), np.array([1])])"
   ]
  },
  {
   "cell_type": "code",
   "execution_count": 31,
   "metadata": {},
   "outputs": [
    {
     "name": "stdout",
     "output_type": "stream",
     "text": [
      "\u001b[1m1/1\u001b[0m \u001b[32m━━━━━━━━━━━━━━━━━━━━\u001b[0m\u001b[37m\u001b[0m \u001b[1m0s\u001b[0m 33ms/step\n"
     ]
    },
    {
     "data": {
      "text/plain": [
       "array([[-0.00318527, -0.00406725,  0.01908119,  0.0145901 ,  0.00049247,\n",
       "         0.00454273,  0.00307294, -0.01821218,  0.00916872, -0.00930632,\n",
       "         0.00187486, -0.01073008, -0.00866817, -0.00038247, -0.00854881,\n",
       "         0.00304466, -0.00240025, -0.00389397, -0.01787194,  0.0018156 ,\n",
       "        -0.01646072,  0.00558207,  0.00661896,  0.00322261,  0.00698087,\n",
       "         0.00977072,  0.00883677,  0.00025657, -0.00387136,  0.00143192,\n",
       "         0.00092221, -0.01216212]], dtype=float32)"
      ]
     },
     "execution_count": 31,
     "metadata": {},
     "output_type": "execute_result"
    }
   ],
   "source": [
    "mlp_user_latent = keras.layers.Flatten()(MLP_Embedding_User(user_input)) \n",
    "mlp_vector = keras.layers.Concatenate()([mlp_user_latent, mlp_item_latent])\n",
    "model = keras.Model(inputs=[user_input, item_input], outputs= mlp_user_latent)\n",
    "model.predict([np.array([1]), np.array([1])])"
   ]
  },
  {
   "cell_type": "code",
   "execution_count": 32,
   "metadata": {},
   "outputs": [
    {
     "name": "stdout",
     "output_type": "stream",
     "text": [
      "\u001b[1m1/1\u001b[0m \u001b[32m━━━━━━━━━━━━━━━━━━━━\u001b[0m\u001b[37m\u001b[0m \u001b[1m0s\u001b[0m 33ms/step\n"
     ]
    },
    {
     "name": "stderr",
     "output_type": "stream",
     "text": [
      "/opt/homebrew/Caskroom/miniconda/base/lib/python3.10/site-packages/keras/src/models/functional.py:225: UserWarning: The structure of `inputs` doesn't match the expected structure: ['user_input', 'item_input']. Received: the structure of inputs=('*', '*')\n",
      "  warnings.warn(\n"
     ]
    },
    {
     "data": {
      "text/plain": [
       "array([[-0.00318527, -0.00406725,  0.01908119,  0.0145901 ,  0.00049247,\n",
       "         0.00454273,  0.00307294, -0.01821218,  0.00916872, -0.00930632,\n",
       "         0.00187486, -0.01073008, -0.00866817, -0.00038247, -0.00854881,\n",
       "         0.00304466, -0.00240025, -0.00389397, -0.01787194,  0.0018156 ,\n",
       "        -0.01646072,  0.00558207,  0.00661896,  0.00322261,  0.00698087,\n",
       "         0.00977072,  0.00883677,  0.00025657, -0.00387136,  0.00143192,\n",
       "         0.00092221, -0.01216212]], dtype=float32)"
      ]
     },
     "execution_count": 32,
     "metadata": {},
     "output_type": "execute_result"
    }
   ],
   "source": [
    "mlp_item_latent = keras.layers.Flatten()(MLP_Embedding_User(item_input))  \n",
    "model = keras.Model(inputs=[user_input, item_input], outputs= mlp_item_latent)\n",
    "model.predict([np.array([1]), np.array([1])])"
   ]
  },
  {
   "cell_type": "code",
   "execution_count": 33,
   "metadata": {},
   "outputs": [
    {
     "name": "stdout",
     "output_type": "stream",
     "text": [
      "\u001b[1m1/1\u001b[0m \u001b[32m━━━━━━━━━━━━━━━━━━━━\u001b[0m\u001b[37m\u001b[0m \u001b[1m0s\u001b[0m 45ms/step\n"
     ]
    },
    {
     "data": {
      "text/plain": [
       "array([[-0.00318527, -0.00406725,  0.01908119,  0.0145901 ,  0.00049247,\n",
       "         0.00454273,  0.00307294, -0.01821218,  0.00916872, -0.00930632,\n",
       "         0.00187486, -0.01073008, -0.00866817, -0.00038247, -0.00854881,\n",
       "         0.00304466, -0.00240025, -0.00389397, -0.01787194,  0.0018156 ,\n",
       "        -0.01646072,  0.00558207,  0.00661896,  0.00322261,  0.00698087,\n",
       "         0.00977072,  0.00883677,  0.00025657, -0.00387136,  0.00143192,\n",
       "         0.00092221, -0.01216212, -0.00318527, -0.00406725,  0.01908119,\n",
       "         0.0145901 ,  0.00049247,  0.00454273,  0.00307294, -0.01821218,\n",
       "         0.00916872, -0.00930632,  0.00187486, -0.01073008, -0.00866817,\n",
       "        -0.00038247, -0.00854881,  0.00304466, -0.00240025, -0.00389397,\n",
       "        -0.01787194,  0.0018156 , -0.01646072,  0.00558207,  0.00661896,\n",
       "         0.00322261,  0.00698087,  0.00977072,  0.00883677,  0.00025657,\n",
       "        -0.00387136,  0.00143192,  0.00092221, -0.01216212]],\n",
       "      dtype=float32)"
      ]
     },
     "execution_count": 33,
     "metadata": {},
     "output_type": "execute_result"
    }
   ],
   "source": [
    "mlp_vector = keras.layers.Concatenate()([mlp_user_latent, mlp_item_latent])\n",
    "model = keras.Model(inputs=[user_input, item_input], outputs= mlp_vector)\n",
    "model.predict([np.array([1]), np.array([1])])"
   ]
  },
  {
   "cell_type": "code",
   "execution_count": 2,
   "metadata": {},
   "outputs": [
    {
     "name": "stdout",
     "output_type": "stream",
     "text": [
      "Latent User Matrix (P):\n",
      " [[0.15873176 1.16479377]\n",
      " [0.15857275 0.74826015]\n",
      " [0.76240121 0.49144516]\n",
      " [1.09746911 0.09673466]]\n",
      "Latent Item Matrix (Q):\n",
      " [[ 0.49246713  0.38599305]\n",
      " [ 0.14893643  1.00889161]\n",
      " [ 0.78809511  0.83045304]\n",
      " [ 0.99501838 -0.08480557]\n",
      " [-0.14669155  0.56443162]]\n",
      "Reconstructed Matrix:\n",
      " [[ 0.52777248  1.1987916   1.09240225  0.05916002  0.63416183]\n",
      " [ 0.36691509  0.77853064  0.74636532  0.09432617  0.39908041]\n",
      " [ 0.56515195  0.60936421  1.00896679  0.71692593  0.16554937]\n",
      " [ 0.57780637  0.26104792  0.94524363  1.0837983  -0.10638935]]\n"
     ]
    }
   ],
   "source": [
    "import numpy as np\n",
    "\n",
    "# Input matrix A\n",
    "A = np.array([\n",
    "    [1, 1, 1, 0, 1],  # p1\n",
    "    [0, 1, 1, 0, 0],  # p2\n",
    "    [0, 1, 1, 1, 0],  # p3\n",
    "    [1, 0, 1, 1, 0]   # p4\n",
    "])\n",
    "\n",
    "# Parameters\n",
    "num_users, num_items = A.shape\n",
    "K = 2  # Number of latent factors\n",
    "lambda_reg = 0.1  # Regularization parameter\n",
    "\n",
    "# Initialize P and Q with random values\n",
    "P = np.random.rand(num_users, K)  # User latent matrix\n",
    "Q = np.random.rand(num_items, K)  # Item latent matrix\n",
    "\n",
    "# Alternating Least Squares (ALS)\n",
    "for epoch in range(20):  # Number of iterations\n",
    "    # Update P (fix Q)\n",
    "    for u in range(num_users):\n",
    "        A_u = A[u, :]  # Ratings for user u\n",
    "        Q_T_Q = Q.T @ Q  # Precompute Q^T * Q\n",
    "        Q_T_Au = Q.T @ A_u.T  # Precompute Q^T * A_u\n",
    "        P[u, :] = np.linalg.solve(Q_T_Q + lambda_reg * np.eye(K), Q_T_Au)\n",
    "\n",
    "    # Update Q (fix P)\n",
    "    for i in range(num_items):\n",
    "        A_i = A[:, i]  # Ratings for item i\n",
    "        P_T_P = P.T @ P  # Precompute P^T * P\n",
    "        P_T_Ai = P.T @ A_i  # Precompute P^T * A_i\n",
    "        Q[i, :] = np.linalg.solve(P_T_P + lambda_reg * np.eye(K), P_T_Ai)\n",
    "\n",
    "# Compute reconstructed matrix\n",
    "reconstructed_A = np.dot(P, Q.T)\n",
    "\n",
    "# Print results\n",
    "print(\"Latent User Matrix (P):\\n\", P)\n",
    "print(\"Latent Item Matrix (Q):\\n\", Q)\n",
    "print(\"Reconstructed Matrix:\\n\", reconstructed_A)"
   ]
  },
  {
   "cell_type": "code",
   "execution_count": 3,
   "metadata": {},
   "outputs": [
    {
     "data": {
      "image/png": "[encoded data removed]",
      "text/plain": [
       "<Figure size 800x600 with 1 Axes>"
      ]
     },
     "metadata": {},
     "output_type": "display_data"
    }
   ],
   "source": [
    "import numpy as np\n",
    "import matplotlib.pyplot as plt\n",
    "\n",
    "# Data to project\n",
    "data = np.array([\n",
    "    [0.15873176, 1.16479377],\n",
    "    [0.15857275, 0.74826015],\n",
    "    [0.76240121, 0.49144516],\n",
    "    [1.09746911, 0.09673466]\n",
    "])\n",
    "\n",
    "# Extract x and y coordinates\n",
    "x_coords = data[:, 0]\n",
    "y_coords = data[:, 1]\n",
    "\n",
    "# Labels for points\n",
    "labels = ['p1', 'p2', 'p3', 'p4']\n",
    "\n",
    "# Plot the points\n",
    "plt.figure(figsize=(8, 6))\n",
    "plt.scatter(x_coords, y_coords, color='blue', s=100)\n",
    "\n",
    "# Annotate points\n",
    "for i, label in enumerate(labels):\n",
    "    plt.annotate(label, (x_coords[i], y_coords[i]), textcoords=\"offset points\", xytext=(5, 5), ha='center')\n",
    "\n",
    "# Axes and grid\n",
    "plt.axhline(0, color='gray', linestyle='--', linewidth=0.5)\n",
    "plt.axvline(0, color='gray', linestyle='--', linewidth=0.5)\n",
    "plt.title('Projection of Data Points onto X-Y Plane')\n",
    "plt.xlabel('X-axis')\n",
    "plt.ylabel('Y-axis')\n",
    "plt.grid(color='lightgray', linestyle='--', linewidth=0.5)\n",
    "plt.show()"
   ]
  },
  {
   "cell_type": "code",
   "execution_count": null,
   "metadata": {},
   "outputs": [],
   "source": [
    "import numpy as np\n",
    "import matplotlib.pyplot as plt\n",
    "\n",
    "# Input matrix A\n",
    "A = np.array([\n",
    "    [1, 1, 1, 0, 1],  # p1\n",
    "    [0, 1, 1, 0, 0],  # p2\n",
    "    [0, 1, 1, 1, 0],  # p3\n",
    "    [1, 0, 1, 1, 0]   # p4\n",
    "])\n",
    "\n",
    "# Perform PCA to project the data into 2D (x, y coordinates)\n",
    "from sklearn.decomposition import PCA\n",
    "pca = PCA(n_components=2)\n",
    "projected = pca.fit_transform(A)\n",
    "\n",
    "# Extract x and y coordinates\n",
    "x_coords = projected[:, 0]\n",
    "y_coords = projected[:, 1]\n",
    "\n",
    "# Labels for points\n",
    "labels = ['p1', 'p2', 'p3', 'p4']\n",
    "\n",
    "# Plot the points\n",
    "plt.figure(figsize=(8, 6))\n",
    "plt.scatter(x_coords, y_coords, color='blue', s=100)\n",
    "\n",
    "# Annotate points\n",
    "for i, label in enumerate(labels):\n",
    "    plt.annotate(label, (x_coords[i], y_coords[i]), textcoords=\"offset points\", xytext=(5, 5), ha='center')\n",
    "\n",
    "# Axes and grid\n",
    "plt.axhline(0, color='gray', linestyle='--', linewidth=0.5)\n",
    "plt.axvline(0, color='gray', linestyle='--', linewidth=0.5)\n",
    "plt.title('Projection of Matrix A onto X-Y Plane')\n",
    "plt.xlabel('Principal Component 1')\n",
    "plt.ylabel('Principal Component 2')\n",
    "plt.grid(color='lightgray', linestyle='--', linewidth=0.5)\n",
    "plt.show()"
   ]
  },
  {
   "cell_type": "code",
   "execution_count": null,
   "metadata": {},
   "outputs": [],
   "source": []
  }
 ],
 "metadata": {
  "kernelspec": {
   "display_name": "base",
   "language": "python",
   "name": "python3"
  },
  "language_info": {
   "codemirror_mode": {
    "name": "ipython",
    "version": 3
   },
   "file_extension": ".py",
   "mimetype": "text/x-python",
   "name": "python",
   "nbconvert_exporter": "python",
   "pygments_lexer": "ipython3",
   "version": "3.10.13"
  }
 },
 "nbformat": 4,
 "nbformat_minor": 2
}
